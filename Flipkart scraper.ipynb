{
 "cells": [
  {
   "cell_type": "code",
   "execution_count": 1,
   "metadata": {},
   "outputs": [],
   "source": [
    "import requests \n",
    "import ast\n",
    "\n",
    "class FLIPKART_SCRAPER:\n",
    "    def __init__(self,url):\n",
    "        self.url=url\n",
    "    def gen_text(self):\n",
    "        text=requests.get(self.url).text\n",
    "        return text\n",
    "    def gen_dict(self):\n",
    "        d=self.gen_text()\n",
    "        t_start=d.find(\"value\\\":{\\\"type\\\":\\\"ProductTitleValue\")\n",
    "        t_start=d[t_start:]\n",
    "        t_start=t_start[t_start.index(\"{\"):t_start.index(\"}\")+1]\n",
    "        self.product_title=ast.literal_eval(t_start)[\"title\"]\n",
    "        #step2\n",
    "        start=d.find('\"rating\":{')\n",
    "        d=d[start:]\n",
    "        start=d.index('{')\n",
    "        end=d.index('}')+1\n",
    "        return ast.literal_eval(d[start:end])\n",
    "    def output(self):\n",
    "        out_dict=self.gen_dict()\n",
    "        self.out_dict=out_dict\n",
    "    def overall_rating(self):\n",
    "        print('overall rating is ',self.out_dict.get('average'))\n",
    "    def ratings_count(self):\n",
    "        print('ratings count is ',self.out_dict.get('count'))\n",
    "    def reviews_count(self):\n",
    "        print('reviews count is ',self.out_dict.get('reviewCount'))\n",
    "    def perc_bdown(self):\n",
    "        print('break down is',list(range(5,0,-1)),self.out_dict.get('breakup',[0]*5)[::-1])\n",
    "    def prod_summary(self):\n",
    "        self.output()\n",
    "        print(self.product_title)\n",
    "        self.overall_rating()\n",
    "        self.ratings_count()\n",
    "        self.reviews_count()\n",
    "        self.perc_bdown()\n"
   ]
  },
  {
   "cell_type": "code",
   "execution_count": 2,
   "metadata": {},
   "outputs": [
    {
     "name": "stdout",
     "output_type": "stream",
     "text": [
      "Mi 4X 108 cm (43) Ultra HD (4K) LED Smart Android TV\n",
      "overall rating is  4.4\n",
      "ratings count is  51028\n",
      "reviews count is  5808\n",
      "break down is [5, 4, 3, 2, 1] [31412, 12911, 2985, 928, 2792]\n"
     ]
    }
   ],
   "source": [
    "p=FLIPKART_SCRAPER(\"https://www.flipkart.com/mi-4x-108-cm-43-ultra-hd-4k-led-smart-android-tv/p/itmab87244d2fead?pid=TVSFJRFFEWHS7RQG&lid=LSTTVSFJRFFEWHS7RQGIB1XXD&marketplace=FLIPKART&srno=b_1_3&otracker=CLP_filters&fm=neo%2Fmerchandising&iid=8e9e611a-c806-43b8-91cc-9128c1f8eeed.TVSFJRFFEWHS7RQG.SEARCH&ppt=sp&ppn=sp&ssid=0fnsr8ebts0000001605977089866\")\n",
    "p.prod_summary()"
   ]
  },
  {
   "cell_type": "code",
   "execution_count": null,
   "metadata": {},
   "outputs": [],
   "source": []
  }
 ],
 "metadata": {
  "kernelspec": {
   "display_name": "Python 3",
   "language": "python",
   "name": "python3"
  },
  "language_info": {
   "codemirror_mode": {
    "name": "ipython",
    "version": 3
   },
   "file_extension": ".py",
   "mimetype": "text/x-python",
   "name": "python",
   "nbconvert_exporter": "python",
   "pygments_lexer": "ipython3",
   "version": "3.7.6"
  }
 },
 "nbformat": 4,
 "nbformat_minor": 4
}
